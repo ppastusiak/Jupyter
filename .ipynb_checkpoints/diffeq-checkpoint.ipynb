{
 "cells": [
  {
   "cell_type": "code",
   "execution_count": 5,
   "id": "19f7a823",
   "metadata": {},
   "outputs": [],
   "source": [
    "import numpy as np\n",
    "import scipy as sp\n",
    "import matplotlib.pyplot as plt\n",
    "from scipy.integrate import odeint\n",
    "from scipy.integrate import solve_ivp"
   ]
  },
  {
   "cell_type": "code",
   "execution_count": 6,
   "id": "191ede15",
   "metadata": {},
   "outputs": [],
   "source": [
    "def dvdt(t,v):\n",
    "    return 3*v**2-5\n",
    "#funkcja definiująca ODE"
   ]
  },
  {
   "cell_type": "code",
   "execution_count": 7,
   "id": "38f4e451",
   "metadata": {},
   "outputs": [],
   "source": [
    "v0=0 #warunek brzegowy\n",
    "\n",
    "t=np.linspace(0,10,100)\n",
    "solution = odeint(dvdt,y0=v0,t=t)\n"
   ]
  },
  {
   "cell_type": "code",
   "execution_count": null,
   "id": "94bf2dc2",
   "metadata": {},
   "outputs": [],
   "source": []
  }
 ],
 "metadata": {
  "kernelspec": {
   "display_name": "Python 3 (ipykernel)",
   "language": "python",
   "name": "python3"
  },
  "language_info": {
   "codemirror_mode": {
    "name": "ipython",
    "version": 3
   },
   "file_extension": ".py",
   "mimetype": "text/x-python",
   "name": "python",
   "nbconvert_exporter": "python",
   "pygments_lexer": "ipython3",
   "version": "3.11.3"
  }
 },
 "nbformat": 4,
 "nbformat_minor": 5
}
