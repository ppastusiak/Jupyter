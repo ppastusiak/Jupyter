{
 "cells": [
  {
   "cell_type": "markdown",
   "id": "90934981",
   "metadata": {},
   "source": [
    "$$ma=-mg-kv $$\n",
    "$$a=-g-\\frac{k}{m}v$$\n",
    "$$a=-g-\\beta v$$\n",
    "$$\\frac{dv }{dt}=-g-\\beta v$$\n",
    "$$\\left\\{\\begin{matrix}\n",
    "\\frac{dx}{dt}=v\\\\ \n",
    "\\frac{dv}{dt}=-g-\\beta v\n",
    "\\end{matrix}\\right.$$\n",
    "         $$\\frac{dS(x,v)}{dt}=\\begin{bmatrix}\n",
    "\\frac{dx}{dt}\\\\ \n",
    "\\frac{dv}{dt}\n",
    "\\end{bmatrix}=\\begin{bmatrix}\n",
    "v\\\\ \n",
    "-g-\\beta v\n",
    "\\end{bmatrix}$$"
   ]
  },
  {
   "cell_type": "code",
   "execution_count": 60,
   "id": "6cd15522",
   "metadata": {},
   "outputs": [
    {
     "ename": "NameError",
     "evalue": "name 'S' is not defined",
     "output_type": "error",
     "traceback": [
      "\u001b[1;31m---------------------------------------------------------------------------\u001b[0m",
      "\u001b[1;31mNameError\u001b[0m                                 Traceback (most recent call last)",
      "Cell \u001b[1;32mIn[60], line 29\u001b[0m\n\u001b[0;32m     26\u001b[0m     ax2\u001b[38;5;241m.\u001b[39mset_xlabel(\u001b[38;5;124m'\u001b[39m\u001b[38;5;124mt\u001b[39m\u001b[38;5;124m'\u001b[39m)\n\u001b[0;32m     27\u001b[0m     ax2\u001b[38;5;241m.\u001b[39mset_ylabel(\u001b[38;5;124m'\u001b[39m\u001b[38;5;124mv\u001b[39m\u001b[38;5;124m'\u001b[39m)\n\u001b[1;32m---> 29\u001b[0m \u001b[43mrzut\u001b[49m\u001b[43m(\u001b[49m\u001b[38;5;241;43m9.81\u001b[39;49m\u001b[43m,\u001b[49m\u001b[38;5;241;43m1\u001b[39;49m\u001b[43m)\u001b[49m\n",
      "Cell \u001b[1;32mIn[60], line 14\u001b[0m, in \u001b[0;36mrzut\u001b[1;34m(g, k)\u001b[0m\n\u001b[0;32m     12\u001b[0m v0\u001b[38;5;241m=\u001b[39m\u001b[38;5;241m10\u001b[39m\n\u001b[0;32m     13\u001b[0m S0\u001b[38;5;241m=\u001b[39m[\u001b[38;5;241m0\u001b[39m,\u001b[38;5;241m10\u001b[39m]\n\u001b[1;32m---> 14\u001b[0m sol\u001b[38;5;241m=\u001b[39modeint(dSdt(t,\u001b[43mS\u001b[49m,g,k),y0\u001b[38;5;241m=\u001b[39mS0,t\u001b[38;5;241m=\u001b[39mt,tfirst\u001b[38;5;241m=\u001b[39m\u001b[38;5;28;01mTrue\u001b[39;00m)\n\u001b[0;32m     15\u001b[0m xsol\u001b[38;5;241m=\u001b[39msol\u001b[38;5;241m.\u001b[39mtranspose()[\u001b[38;5;241m0\u001b[39m]\n\u001b[0;32m     16\u001b[0m vsol\u001b[38;5;241m=\u001b[39msol\u001b[38;5;241m.\u001b[39mtranspose()[\u001b[38;5;241m1\u001b[39m]\n",
      "\u001b[1;31mNameError\u001b[0m: name 'S' is not defined"
     ]
    }
   ],
   "source": [
    "import numpy as np\n",
    "import scipy as sp\n",
    "import matplotlib.pyplot as plt\n",
    "from scipy.integrate import odeint\n",
    "def dSdt(t,S):\n",
    "    x,v=S\n",
    "    return [v,-g-k*v]\n",
    "\n",
    "def rzut(g,k):\n",
    "    t=np.linspace(0,25,500)\n",
    "    x0=0\n",
    "    v0=10\n",
    "    S0=[0,10]\n",
    "    sol=odeint(dSdt,y0=S0,t=t,tfirst=True)\n",
    "    xsol=sol.transpose()[0]\n",
    "    vsol=sol.transpose()[1]\n",
    "    x=xsol[xsol>=0]\n",
    "    v=vsol[xsol>=0]\n",
    "    t=t[:len(x)]\n",
    "    fig,[ax1,ax2]=plt.subplots(1,2)\n",
    "    fig.set_size_inches(10,5)\n",
    "    ax1.plot(t,x)\n",
    "    ax1.set_xlabel('t')\n",
    "    ax1.set_ylabel('h')\n",
    "    ax2.plot(t,v)\n",
    "    ax2.set_xlabel('t')\n",
    "    ax2.set_ylabel('v')\n",
    "\n",
    "rzut(9.81,1)"
   ]
  }
 ],
 "metadata": {
  "kernelspec": {
   "display_name": "Python 3 (ipykernel)",
   "language": "python",
   "name": "python3"
  },
  "language_info": {
   "codemirror_mode": {
    "name": "ipython",
    "version": 3
   },
   "file_extension": ".py",
   "mimetype": "text/x-python",
   "name": "python",
   "nbconvert_exporter": "python",
   "pygments_lexer": "ipython3",
   "version": "3.11.3"
  }
 },
 "nbformat": 4,
 "nbformat_minor": 5
}
